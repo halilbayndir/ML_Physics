{
  "nbformat": 4,
  "nbformat_minor": 0,
  "metadata": {
    "colab": {
      "provenance": []
    },
    "kernelspec": {
      "name": "python3",
      "display_name": "Python 3"
    },
    "language_info": {
      "name": "python"
    }
  },
  "cells": [
    {
      "cell_type": "markdown",
      "source": [
        "# **RBM**"
      ],
      "metadata": {
        "id": "hZlO5yAIAUsx"
      }
    },
    {
      "cell_type": "markdown",
      "source": [
        "*MCMC method is used for gibbs sampling*"
      ],
      "metadata": {
        "id": "ztZ7Ac7UAbk0"
      }
    },
    {
      "cell_type": "code",
      "source": [
        "import numpy as np\n",
        "import matplotlib.pyplot as plt\n",
        "\n",
        "def sigmoid(x):\n",
        "    return 1 / (1 + np.exp(-x))\n",
        "\n",
        "def gibbs_sampling(v, W , b, a, k):\n",
        "    for _ in range(k):\n",
        "        h_prob = sigmoid(np.dot(v, W) + b)\n",
        "        h = np.random.binomial(1, h_prob)\n",
        "\n",
        "        v_prob = sigmoid(np.dot(h, W.T) + a)\n",
        "        v = np.random.binomial(1, v_prob)\n",
        "\n",
        "    return v, h\n",
        "\n",
        "Nh = 2\n",
        "Nv = 5\n",
        "Weight = np.random.randn(Nv, Nh)\n",
        "hidden_bias = np.zeros(Nh)\n",
        "visible_bias = np.zeros(Nv)\n",
        "iteration = 1\n",
        "\n",
        "v_sample = np.array([])\n",
        "h_sample = np.array([])\n",
        "\n",
        "for _ in range(100):\n",
        "  v_init = np.random.binomial(1, 0.5, Nv)\n",
        "  v_sampled, h_sampled = gibbs_sampling(v_init, Weight, hidden_bias, visible_bias, iteration)\n",
        "  v_sample = np.append(v_sample, v_sampled)\n",
        "  h_sample = np.append(h_sample, h_sampled)\n",
        "\n",
        "\n",
        "print(\"Sampled visible state:\", v_sample)\n",
        "print(\"Sampled hidden state:\", h_sample)\n",
        "\n",
        "len(v_sample),len(h_sample)\n"
      ],
      "metadata": {
        "colab": {
          "base_uri": "https://localhost:8080/"
        },
        "id": "2r4VVuH52SFJ",
        "outputId": "210de5a1-dcb6-43fe-b06f-387e0da8f1b4"
      },
      "execution_count": null,
      "outputs": [
        {
          "output_type": "stream",
          "name": "stdout",
          "text": [
            "Sampled visible state: [1. 0. 0. 0. 1. 1. 0. 0. 1. 0. 1. 0. 1. 1. 0. 0. 1. 1. 1. 1. 1. 1. 0. 1.\n",
            " 1. 1. 0. 1. 0. 1. 1. 1. 0. 0. 1. 1. 0. 1. 1. 0. 1. 0. 0. 0. 1. 0. 1. 0.\n",
            " 1. 0. 1. 0. 0. 1. 0. 1. 1. 0. 1. 1. 1. 1. 1. 1. 1. 1. 0. 1. 0. 0. 1. 1.\n",
            " 1. 0. 1. 0. 1. 1. 0. 0. 0. 0. 1. 0. 0. 1. 0. 1. 1. 1. 1. 0. 1. 1. 1. 1.\n",
            " 1. 0. 0. 0. 1. 0. 1. 1. 1. 1. 0. 0. 1. 0. 1. 0. 1. 1. 1. 0. 1. 0. 1. 1.\n",
            " 1. 0. 1. 1. 1. 1. 1. 0. 0. 1. 0. 0. 1. 1. 1. 0. 0. 0. 1. 1. 0. 0. 0. 1.\n",
            " 1. 1. 0. 1. 1. 1. 1. 0. 1. 0. 0. 1. 0. 0. 0. 0. 1. 0. 1. 0. 1. 1. 0. 0.\n",
            " 1. 0. 1. 1. 0. 0. 0. 1. 0. 0. 1. 1. 1. 1. 1. 1. 1. 1. 0. 1. 1. 0. 1. 0.\n",
            " 0. 1. 1. 1. 0. 1. 1. 1. 0. 0. 1. 0. 0. 1. 1. 0. 0. 0. 0. 0. 0. 0. 1. 1.\n",
            " 0. 1. 1. 1. 1. 1. 1. 1. 1. 1. 1. 0. 1. 0. 1. 0. 1. 0. 1. 1. 0. 1. 0. 1.\n",
            " 1. 0. 0. 0. 0. 1. 1. 1. 1. 1. 0. 1. 0. 1. 0. 1. 0. 0. 0. 0. 1. 0. 0. 0.\n",
            " 1. 1. 1. 0. 0. 1. 0. 1. 1. 0. 0. 1. 1. 1. 1. 0. 1. 0. 1. 1. 0. 0. 1. 1.\n",
            " 0. 1. 1. 0. 0. 1. 0. 1. 0. 1. 1. 1. 0. 0. 0. 1. 0. 0. 0. 0. 0. 1. 0. 0.\n",
            " 1. 0. 0. 1. 0. 1. 0. 1. 1. 0. 1. 1. 0. 0. 0. 0. 0. 0. 0. 0. 1. 1. 0. 1.\n",
            " 0. 0. 1. 0. 1. 1. 1. 1. 0. 1. 0. 0. 0. 1. 1. 0. 1. 1. 0. 1. 1. 1. 0. 0.\n",
            " 0. 0. 0. 1. 0. 1. 0. 1. 1. 1. 0. 0. 0. 1. 1. 1. 0. 1. 1. 1. 1. 1. 0. 1.\n",
            " 0. 1. 1. 0. 0. 1. 1. 0. 1. 1. 1. 1. 0. 0. 0. 0. 1. 0. 0. 1. 0. 0. 0. 1.\n",
            " 1. 0. 0. 0. 0. 1. 1. 1. 0. 1. 0. 1. 1. 0. 1. 1. 0. 0. 0. 0. 1. 1. 1. 0.\n",
            " 0. 0. 0. 0. 1. 1. 1. 0. 0. 0. 1. 1. 1. 0. 0. 1. 0. 1. 1. 0. 1. 1. 0. 1.\n",
            " 0. 0. 1. 1. 0. 0. 0. 1. 1. 1. 1. 1. 0. 1. 0. 0. 1. 1. 1. 1. 0. 0. 1. 1.\n",
            " 0. 1. 0. 0. 1. 1. 1. 1. 1. 1. 0. 0. 0. 1. 1. 0. 0. 0. 1. 0.]\n",
            "Sampled hidden state: [1. 0. 1. 0. 1. 0. 0. 0. 1. 0. 1. 1. 0. 1. 1. 0. 1. 1. 0. 0. 1. 0. 1. 1.\n",
            " 1. 0. 1. 0. 0. 1. 0. 0. 1. 1. 1. 0. 1. 0. 0. 1. 1. 1. 1. 1. 1. 0. 0. 1.\n",
            " 1. 1. 0. 1. 1. 0. 1. 0. 0. 0. 0. 0. 1. 0. 1. 1. 1. 0. 1. 0. 0. 1. 1. 0.\n",
            " 1. 1. 1. 1. 1. 0. 1. 1. 0. 0. 0. 0. 1. 1. 1. 1. 1. 0. 1. 0. 1. 1. 1. 0.\n",
            " 1. 1. 1. 1. 0. 0. 0. 1. 1. 1. 1. 0. 0. 1. 0. 0. 1. 0. 0. 0. 1. 1. 1. 0.\n",
            " 1. 0. 0. 1. 1. 1. 0. 0. 0. 0. 0. 0. 0. 0. 0. 0. 0. 0. 1. 1. 1. 0. 0. 1.\n",
            " 1. 1. 1. 0. 0. 0. 1. 0. 0. 0. 0. 1. 1. 0. 1. 0. 0. 1. 1. 0. 1. 0. 1. 0.\n",
            " 1. 0. 0. 0. 1. 0. 0. 0. 1. 0. 1. 1. 1. 0. 1. 0. 0. 0. 1. 0. 0. 0. 1. 1.\n",
            " 0. 0. 1. 0. 1. 0. 0. 0.]\n"
          ]
        },
        {
          "output_type": "execute_result",
          "data": {
            "text/plain": [
              "(500, 200)"
            ]
          },
          "metadata": {},
          "execution_count": 50
        }
      ]
    },
    {
      "cell_type": "code",
      "source": [
        "def train_rbm(data, num_hidden, learning_rate, k, epochs):\n",
        "    num_visible = data.shape[1]\n",
        "    W = np.random.randn(num_visible, num_hidden)\n",
        "    b = np.zeros(num_hidden)\n",
        "    a = np.zeros(num_visible)\n",
        "\n",
        "    for epoch in range(epochs):\n",
        "        np.random.shuffle(data)\n",
        "        for v in data:\n",
        "            v_sample = np.copy(v)\n",
        "            v_k, h_k = gibbs_sampling(v_sample, W, b, a, k)\n",
        "\n",
        "            pos_associations = np.outer(v, sigmoid(np.dot(v, W) + b))\n",
        "            neg_associations = np.outer(v_k, sigmoid(np.dot(v_k, W) + b))\n",
        "\n",
        "            W += learning_rate * (pos_associations - neg_associations)\n",
        "            a += learning_rate * (v - v_k)\n",
        "            b += learning_rate * (sigmoid(np.dot(v, W) + b) - sigmoid(np.dot(v_k, W) + b))\n",
        "\n",
        "    return W, b, a"
      ],
      "metadata": {
        "id": "1cWkaTQI79sA"
      },
      "execution_count": null,
      "outputs": []
    },
    {
      "cell_type": "code",
      "source": [
        "seed = 10\n",
        "np.random.seed(seed)\n",
        "data = np.random.binomial(1, 0.5, size=(1000, 10))\n",
        "data"
      ],
      "metadata": {
        "colab": {
          "base_uri": "https://localhost:8080/"
        },
        "id": "bWEgqTMUD5W3",
        "outputId": "8ae83963-8327-4415-eb39-154435995682"
      },
      "execution_count": null,
      "outputs": [
        {
          "output_type": "execute_result",
          "data": {
            "text/plain": [
              "array([[1, 0, 1, ..., 1, 0, 0],\n",
              "       [1, 1, 0, ..., 0, 1, 1],\n",
              "       [1, 0, 0, ..., 1, 1, 1],\n",
              "       ...,\n",
              "       [0, 0, 0, ..., 1, 1, 0],\n",
              "       [1, 1, 0, ..., 0, 1, 1],\n",
              "       [0, 0, 1, ..., 0, 0, 1]])"
            ]
          },
          "metadata": {},
          "execution_count": 52
        }
      ]
    },
    {
      "cell_type": "code",
      "source": [
        "num_hidden = 5\n",
        "learning_rate = 0.1\n",
        "k = 1\n",
        "epochs = 30\n",
        "W, b, a = train_rbm(data, num_hidden, learning_rate, k, epochs)\n",
        "\n",
        "print(\"Trained weights:\")\n",
        "print(W)\n",
        "print(\"Trained visible biases:\")\n",
        "print(a)\n",
        "print(\"Trained hidden biases:\")\n",
        "print(b)"
      ],
      "metadata": {
        "colab": {
          "base_uri": "https://localhost:8080/"
        },
        "id": "qSMomqQo8Pu4",
        "outputId": "52dc96e3-fbaa-4aa8-b89e-76672dd3328b"
      },
      "execution_count": null,
      "outputs": [
        {
          "output_type": "stream",
          "name": "stdout",
          "text": [
            "Trained weights:\n",
            "[[ 2.45713007e-01 -1.68277713e+00 -2.71815729e+00 -2.41639560e+00\n",
            "  -1.13737647e+00]\n",
            " [ 1.22740298e+00 -1.27843270e+00 -1.25108181e+00 -3.12526998e+00\n",
            "  -4.33906753e-01]\n",
            " [-5.19310276e-01 -9.65839002e-01 -9.70915774e-01 -9.44583828e-02\n",
            "   6.27360176e-01]\n",
            " [-9.94093279e-01  1.95727567e-01 -1.08805600e+00 -1.94959325e+00\n",
            "  -1.96911541e+00]\n",
            " [-6.95160917e-01 -5.10259173e-01  9.58903350e-01 -1.58549620e+00\n",
            "  -2.75083886e+00]\n",
            " [-1.85451039e+00 -1.19769403e+00  2.50845817e-03 -1.75613822e+00\n",
            "  -1.51837195e+00]\n",
            " [-1.65141236e+00  3.39135305e-01 -2.03102090e+00 -1.94661112e+00\n",
            "   4.86918713e-01]\n",
            " [-2.04747802e+00 -1.05695262e+00 -9.30970767e-01 -4.73198287e-01\n",
            "  -2.18691207e+00]\n",
            " [-1.84666408e+00 -1.87988454e+00 -3.39329815e-01 -1.50695728e-01\n",
            "   4.44736587e-02]\n",
            " [-1.22402333e+00 -1.33641774e+00 -1.35895313e+00  1.46399634e-01\n",
            "  -6.26665492e-01]]\n",
            "Trained visible biases:\n",
            "[3.  3.7 2.2 2.5 1.9 2.6 2.  2.1 1.4 0.8]\n",
            "Trained hidden biases:\n",
            "[-0.4592403  12.24339339 -0.12015885 14.96733079  0.0572489 ]\n"
          ]
        }
      ]
    },
    {
      "cell_type": "code",
      "source": [
        "plt.imshow(W.T, cmap='gray', aspect='auto')\n",
        "plt.title('Learned Weights')\n",
        "plt.xlabel('Visible Units')\n",
        "plt.ylabel('Hidden Units')\n",
        "plt.colorbar()\n",
        "plt.show()"
      ],
      "metadata": {
        "colab": {
          "base_uri": "https://localhost:8080/",
          "height": 472
        },
        "id": "OsJigj8bAo7P",
        "outputId": "ebfe73f4-6bb2-491d-e3a3-e7cfce0698b4"
      },
      "execution_count": null,
      "outputs": [
        {
          "output_type": "display_data",
          "data": {
            "text/plain": [
              "<Figure size 640x480 with 2 Axes>"
            ],
            "image/png": "[encoded data removed]"
          },
          "metadata": {}
        }
      ]
    }
  ]
}